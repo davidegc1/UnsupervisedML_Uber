{
 "cells": [
  {
   "cell_type": "markdown",
   "metadata": {
    "id": "xwupACp1UYIu"
   },
   "source": [
    "# Uber: identify hot zones in New York City\n",
    "- Objective: Create an algorithhm to dentify hot zones for ride pickups in NYC. Create clusters and identify their characteristics, in order to reduce customer waiting time. Visualize the results in a city map."
   ]
  },
  {
   "cell_type": "markdown",
   "metadata": {
    "id": "EiVaj9UbJSeK"
   },
   "source": [
    "![New York Boroughs](https://www.worldatlas.com/r/w768/upload/c6/23/73/shutterstock-152208935.jpg)"
   ]
  },
  {
   "cell_type": "markdown",
   "metadata": {
    "id": "2aVMZfkrUYIx"
   },
   "source": [
    "## Imports\n",
    "- Data Exploration"
   ]
  },
  {
   "cell_type": "code",
   "execution_count": null,
   "metadata": {
    "id": "z5RxkBpeUYIx"
   },
   "outputs": [],
   "source": [
    "# data handling\n",
    "import pandas as pd\n",
    "import numpy as np\n",
    "import seaborn as sns\n",
    "import matplotlib.pyplot as plt\n",
    "import matplotlib.image as mpimg\n",
    "import plotly.express as px\n",
    "import datetime\n",
    "\n",
    "\n",
    "# machine learning\n",
    "from sklearn.preprocessing import StandardScaler\n",
    "from sklearn.cluster import KMeans\n",
    "from sklearn.cluster import DBSCAN\n",
    "from sklearn.metrics import silhouette_score\n",
    "from scipy.spatial.distance import cdist\n",
    "\n",
    "import warnings\n",
    "warnings.filterwarnings(\"ignore\")"
   ]
  },
  {
   "cell_type": "markdown",
   "metadata": {
    "id": "qNFzRzFmUYI3"
   },
   "source": [
    "##### Map\n",
    "The New York Area will be considered as the southwest end of Staten Island, the north end of the Bronx and the eastern end of Queens.\n",
    "\n",
    "\n",
    "- __Latitude__: 40.5479 - 40.8673\n",
    "- __Longitude__: -74.0374 - -73.7467"
   ]
  },
  {
   "cell_type": "code",
   "execution_count": 1,
   "metadata": {},
   "outputs": [
    {
     "data": {
      "text/html": [
       "<div class='tableauPlaceholder' id='viz1691700265760' style='position: relative'><noscript><a href='#'><img alt='NYC Rides Dashboard ' src='https:&#47;&#47;public.tableau.com&#47;static&#47;images&#47;Ub&#47;Uber_rides_Dashboard&#47;Dashboard1&#47;1_rss.png' style='border: none' /></a></noscript><object class='tableauViz'  style='display:none;'><param name='host_url' value='https%3A%2F%2Fpublic.tableau.com%2F' /> <param name='embed_code_version' value='3' /> <param name='site_root' value='' /><param name='name' value='Uber_rides_Dashboard&#47;Dashboard1' /><param name='tabs' value='no' /><param name='toolbar' value='yes' /><param name='static_image' value='https:&#47;&#47;public.tableau.com&#47;static&#47;images&#47;Ub&#47;Uber_rides_Dashboard&#47;Dashboard1&#47;1.png' /> <param name='animate_transition' value='yes' /><param name='display_static_image' value='yes' /><param name='display_spinner' value='yes' /><param name='display_overlay' value='yes' /><param name='display_count' value='yes' /><param name='language' value='en-US' /></object></div>                <script type='text/javascript'>                    var divElement = document.getElementById('viz1691700265760');                    var vizElement = divElement.getElementsByTagName('object')[0];                    if ( divElement.offsetWidth > 800 ) { vizElement.style.width='1000px';vizElement.style.height='827px';} else if ( divElement.offsetWidth > 500 ) { vizElement.style.width='1000px';vizElement.style.height='827px';} else { vizElement.style.width='100%';vizElement.style.height='727px';}                     var scriptElement = document.createElement('script');                    scriptElement.src = 'https://public.tableau.com/javascripts/api/viz_v1.js';                    vizElement.parentNode.insertBefore(scriptElement, vizElement);                </script>\n"
      ],
      "text/plain": [
       "<IPython.core.display.HTML object>"
      ]
     },
     "metadata": {},
     "output_type": "display_data"
    }
   ],
   "source": [
    "%%HTML\n",
    "<div class='tableauPlaceholder' id='viz1691700265760' style='position: relative'><noscript><a href='#'><img alt='NYC Rides Dashboard ' src='https:&#47;&#47;public.tableau.com&#47;static&#47;images&#47;Ub&#47;Uber_rides_Dashboard&#47;Dashboard1&#47;1_rss.png' style='border: none' /></a></noscript><object class='tableauViz'  style='display:none;'><param name='host_url' value='https%3A%2F%2Fpublic.tableau.com%2F' /> <param name='embed_code_version' value='3' /> <param name='site_root' value='' /><param name='name' value='Uber_rides_Dashboard&#47;Dashboard1' /><param name='tabs' value='no' /><param name='toolbar' value='yes' /><param name='static_image' value='https:&#47;&#47;public.tableau.com&#47;static&#47;images&#47;Ub&#47;Uber_rides_Dashboard&#47;Dashboard1&#47;1.png' /> <param name='animate_transition' value='yes' /><param name='display_static_image' value='yes' /><param name='display_spinner' value='yes' /><param name='display_overlay' value='yes' /><param name='display_count' value='yes' /><param name='language' value='en-US' /></object></div>                <script type='text/javascript'>                    var divElement = document.getElementById('viz1691700265760');                    var vizElement = divElement.getElementsByTagName('object')[0];                    if ( divElement.offsetWidth > 800 ) { vizElement.style.width='1000px';vizElement.style.height='827px';} else if ( divElement.offsetWidth > 500 ) { vizElement.style.width='1000px';vizElement.style.height='827px';} else { vizElement.style.width='100%';vizElement.style.height='727px';}                     var scriptElement = document.createElement('script');                    scriptElement.src = 'https://public.tableau.com/javascripts/api/viz_v1.js';                    vizElement.parentNode.insertBefore(scriptElement, vizElement);                </script>"
   ]
  },
  {
   "cell_type": "markdown",
   "metadata": {
    "id": "vbFsGcLMUJuZ"
   },
   "source": [
    "- Show images of all Uber rides, compared to those in the New York Area\n",
    "- It will be necessary to apply a filter with latitude and longitude in order to obtain those observations within NYC"
   ]
  },
  {
   "cell_type": "code",
   "execution_count": null,
   "metadata": {
    "id": "8uiZ90axUYIy"
   },
   "outputs": [],
   "source": [
    "# vscode and jupyter notebook data imports\n",
    "\n",
    "taxi = pd.read_csv(\"/Users/student/Desktop/UnsupervisedML_Uber/uber-trip-data/taxi-zone-lookup.csv\")\n",
    "april_14 = pd.read_csv(\"/Users/student/Desktop/UnsupervisedML_Uber/uber-trip-data/uber-raw-data-apr14.csv\")\n",
    "may_14 = pd.read_csv(\"/Users/student/Desktop/UnsupervisedML_Uber/uber-trip-data/uber-raw-data-may14.csv\")\n",
    "june_14 = pd.read_csv(\"/Users/student/Desktop/UnsupervisedML_Uber/uber-trip-data/uber-raw-data-jun14.csv\")\n",
    "july_14 = pd.read_csv(\"/Users/student/Desktop/UnsupervisedML_Uber/uber-trip-data/uber-raw-data-jul14.csv\")\n",
    "august_14 = pd.read_csv(\"/Users/student/Desktop/UnsupervisedML_Uber/uber-trip-data/uber-raw-data-aug14.csv\")\n",
    "sept_14 = pd.read_csv(\"/Users/student/Desktop/UnsupervisedML_Uber/uber-trip-data/uber-raw-data-sep14.csv\")\n",
    "# jan_june_15 = pd.read_csv(\"/Users/student/Desktop/UnsupervisedML_Uber/uber-trip-data/.uber-raw-data-janjune-15.csv\")"
   ]
  },
  {
   "cell_type": "code",
   "execution_count": null,
   "metadata": {
    "id": "YBKbvvm7U0Xi"
   },
   "outputs": [],
   "source": [
    "# taxi = pd.read_csv(\"/content/drive/MyDrive/Jedha/UnsupervisedML_Uber/uber-trip-data/taxi-zone-lookup.csv\")\n",
    "# april_14 = pd.read_csv(\"/content/drive/MyDrive/Jedha/UnsupervisedML_Uber/uber-trip-data/uber-raw-data-apr14.csv\")\n",
    "# may_14 = pd.read_csv(\"/content/drive/MyDrive/Jedha/UnsupervisedML_Uber/uber-trip-data/uber-raw-data-may14.csv\")\n",
    "# june_14 = pd.read_csv(\"/content/drive/MyDrive/Jedha/UnsupervisedML_Uber/uber-trip-data/uber-raw-data-jun14.csv\")\n",
    "# july_14 = pd.read_csv(\"/content/drive/MyDrive/Jedha/UnsupervisedML_Uber/uber-trip-data/uber-raw-data-jul14.csv\")\n",
    "# august_14 = pd.read_csv(\"/content/drive/MyDrive/Jedha/UnsupervisedML_Uber/uber-trip-data/uber-raw-data-aug14.csv\")\n",
    "# sept_14 = pd.read_csv(\"/content/drive/MyDrive/Jedha/UnsupervisedML_Uber/uber-trip-data/uber-raw-data-sep14.csv\")\n",
    "# jan_june_15 = pd.read_csv(\"/content/drive/MyDrive/Jedha/UnsupervisedML_Uber/uber-trip-data/uber-raw-data-janjune-15.csv\")"
   ]
  },
  {
   "cell_type": "code",
   "execution_count": null,
   "metadata": {
    "colab": {
     "base_uri": "https://localhost:8080/",
     "height": 1000
    },
    "id": "EJ2JSYR9UYIz",
    "outputId": "2edf19b2-bc67-485c-86f5-4142718d2094"
   },
   "outputs": [],
   "source": [
    "# display 5 samples of each dataframe\n",
    "frames = [taxi, april_14, may_14, june_14, july_14, august_14, sept_14] # , jan_june_15]\n",
    "\n",
    "for frame in frames:\n",
    "    print(\"Shape:\", frame.shape)\n",
    "    display(frame.head())\n",
    "    # add space\n",
    "    print()"
   ]
  },
  {
   "cell_type": "markdown",
   "metadata": {
    "id": "6YGMYwONVq6I"
   },
   "source": [
    "- data from april '14 to september '14 are all the same, those frames will be joined. By now we will work on these data, and we will leave _taxi_ and _jan_june_15_ dataframes pending."
   ]
  },
  {
   "cell_type": "code",
   "execution_count": null,
   "metadata": {
    "colab": {
     "base_uri": "https://localhost:8080/",
     "height": 206
    },
    "id": "MBhC7M6gUYI0",
    "outputId": "d5ac0012-219f-44ee-9425-44493af7ffc8"
   },
   "outputs": [],
   "source": [
    "# join dataframes\n",
    "frames = april_14, may_14, june_14, july_14, august_14, sept_14\n",
    "df = pd.concat(frames)\n",
    "df.sample(5)"
   ]
  },
  {
   "cell_type": "code",
   "execution_count": null,
   "metadata": {},
   "outputs": [],
   "source": [
    "# # download csv file, send it to tableau\n",
    "df.to_csv(\"uber_data.csv\")"
   ]
  },
  {
   "cell_type": "code",
   "execution_count": null,
   "metadata": {
    "colab": {
     "base_uri": "https://localhost:8080/"
    },
    "id": "mQYIpzvUUYI0",
    "outputId": "47a9b1e6-5940-4472-e028-efed8ac5bdd1"
   },
   "outputs": [],
   "source": [
    "df.shape"
   ]
  },
  {
   "cell_type": "code",
   "execution_count": null,
   "metadata": {
    "colab": {
     "base_uri": "https://localhost:8080/"
    },
    "id": "pOO7eQa9UYI0",
    "outputId": "9503208a-5eb5-4d88-a2ab-3671f15f878d"
   },
   "outputs": [],
   "source": [
    "df.info()"
   ]
  },
  {
   "cell_type": "code",
   "execution_count": null,
   "metadata": {
    "id": "IXNQmugsUYI1"
   },
   "outputs": [],
   "source": [
    "# change \"base\" to category\n",
    "df[\"Base\"] = df[\"Base\"].astype(\"category\")"
   ]
  },
  {
   "cell_type": "code",
   "execution_count": null,
   "metadata": {
    "colab": {
     "base_uri": "https://localhost:8080/"
    },
    "id": "22LouMYwUYI1",
    "outputId": "e6e56fbc-0113-448c-da46-d2a45018354c"
   },
   "outputs": [],
   "source": [
    "# change date to datetime\n",
    "df[\"Date/Time\"] = pd.to_datetime(df[\"Date/Time\"])\n",
    "df[\"Date/Time\"].head()"
   ]
  },
  {
   "cell_type": "code",
   "execution_count": null,
   "metadata": {
    "colab": {
     "base_uri": "https://localhost:8080/",
     "height": 206
    },
    "id": "66h0e09PUYI1",
    "outputId": "78eeeb95-655d-4467-a073-8a2c580e4773"
   },
   "outputs": [],
   "source": [
    "# create individual columns for date and time for exploratory analysis\n",
    "df[\"Day\"] = df[\"Date/Time\"].dt.day\n",
    "df[\"Month\"] = df[\"Date/Time\"].dt.month\n",
    "df[\"Year\"] = df[\"Date/Time\"].dt.year\n",
    "df[\"Time\"] = df[\"Date/Time\"].dt.time\n",
    "\n",
    "# drop Date/Time column\n",
    "df.drop(columns=\"Date/Time\", inplace=True)\n",
    "\n",
    "df.head()"
   ]
  },
  {
   "cell_type": "code",
   "execution_count": null,
   "metadata": {
    "colab": {
     "base_uri": "https://localhost:8080/"
    },
    "id": "EEBMU0EiUYI1",
    "outputId": "992ed85b-f8d9-4b53-d5b6-83ff1e88b0d1"
   },
   "outputs": [],
   "source": [
    "# sanity check\n",
    "df.info()"
   ]
  },
  {
   "cell_type": "code",
   "execution_count": null,
   "metadata": {
    "colab": {
     "base_uri": "https://localhost:8080/"
    },
    "id": "Ipnjo86IUYI2",
    "outputId": "49474c6f-3f70-4697-e692-14966cd35352"
   },
   "outputs": [],
   "source": [
    "# missing values\n",
    "df.isna().sum()"
   ]
  },
  {
   "cell_type": "code",
   "execution_count": null,
   "metadata": {
    "colab": {
     "base_uri": "https://localhost:8080/"
    },
    "id": "RH_ndXg6UYI2",
    "outputId": "f20c00fc-d743-4f3b-9c1e-1fb99b7d04da"
   },
   "outputs": [],
   "source": [
    "# duplicates\n",
    "df.duplicated().sum()"
   ]
  },
  {
   "cell_type": "code",
   "execution_count": null,
   "metadata": {
    "colab": {
     "base_uri": "https://localhost:8080/"
    },
    "id": "Pxxa8xjxUYI2",
    "outputId": "10d2573f-5915-4ac2-ab85-7848a720d0a2"
   },
   "outputs": [],
   "source": [
    "# percentage of duplicates\n",
    "(df.duplicated().sum()  / len(df)) * 100"
   ]
  },
  {
   "cell_type": "code",
   "execution_count": null,
   "metadata": {
    "colab": {
     "base_uri": "https://localhost:8080/"
    },
    "id": "ENfDCcpHUYI2",
    "outputId": "f62f7afd-937d-4998-95dd-7373641c6c11"
   },
   "outputs": [],
   "source": [
    "# drop duplicates\n",
    "df.drop_duplicates(inplace=True)\n",
    "\n",
    "# sanity check\n",
    "df.duplicated().sum()"
   ]
  },
  {
   "cell_type": "code",
   "execution_count": null,
   "metadata": {
    "colab": {
     "base_uri": "https://localhost:8080/"
    },
    "id": "Mt11ymyLY10f",
    "outputId": "57713530-b5d0-4191-d81e-10f98fa6f7f9"
   },
   "outputs": [],
   "source": [
    "# filter for latitude and longitude, to obtain observations only for NYC\n",
    "\n",
    "# set values for minimum and maximum latitudes and longitudes\n",
    "min_lat = 40.5479\n",
    "max_lat = 40.8673\n",
    "min_lon = -74.0374\n",
    "max_lon = -73.7467\n",
    "\n",
    "# latitude and longitude mask\n",
    "df = df[(df[\"Lat\"] >= min_lat) & (df[\"Lon\"] >= min_lon) & \\\n",
    " (df[\"Lon\"] >= min_lon) & (df[\"Lon\"] <= max_lon)]\n",
    "\n",
    "df.shape"
   ]
  },
  {
   "cell_type": "markdown",
   "metadata": {
    "id": "BYeydIS_UYI2"
   },
   "source": [
    "## Exploratory Data Analysis"
   ]
  },
  {
   "cell_type": "code",
   "execution_count": null,
   "metadata": {
    "colab": {
     "base_uri": "https://localhost:8080/",
     "height": 452
    },
    "id": "E056jOzmUYI2",
    "outputId": "b2ec97e8-7f20-4ec5-c87d-55a4b2c66b5e"
   },
   "outputs": [],
   "source": [
    "sns.heatmap(df.select_dtypes(\"number\").corr(), annot=True)"
   ]
  },
  {
   "cell_type": "markdown",
   "metadata": {
    "id": "Aa2GE8A_UYI2"
   },
   "source": [
    "- Very low correlation between our variables, that is a good thing."
   ]
  },
  {
   "cell_type": "code",
   "execution_count": null,
   "metadata": {
    "colab": {
     "base_uri": "https://localhost:8080/"
    },
    "id": "fQ9yUOvVUYI2",
    "outputId": "49bf0938-2663-4225-dbac-0ecbd943a170"
   },
   "outputs": [],
   "source": [
    "print(\"Average latitude\", round(df[\"Lat\"].mean(),2))"
   ]
  },
  {
   "cell_type": "code",
   "execution_count": null,
   "metadata": {
    "colab": {
     "base_uri": "https://localhost:8080/"
    },
    "id": "ke2qMeURUYI2",
    "outputId": "b9146c91-7c07-4dcb-ed13-b67ea5be6ac7"
   },
   "outputs": [],
   "source": [
    "print(\"Average longitude\", round(df[\"Lon\"].mean(),2))"
   ]
  },
  {
   "cell_type": "code",
   "execution_count": null,
   "metadata": {
    "colab": {
     "base_uri": "https://localhost:8080/",
     "height": 1000
    },
    "id": "8jyEFbkHUYI2",
    "outputId": "e9d543f1-ff2a-4001-f507-360d5c2e97a8"
   },
   "outputs": [],
   "source": [
    "# for loop to create countplot for selected variables\n",
    "\n",
    "cols = [\"Day\", \"Month\", \"Base\"]\n",
    "\n",
    "for col in cols:\n",
    "    plt.figure(figsize=(10,4))\n",
    "    sns.countplot(data=df,\n",
    "                  x=col,\n",
    "                  palette=\"muted\")\n",
    "    plt.title(col)\n",
    "    plt.show()"
   ]
  },
  {
   "cell_type": "markdown",
   "metadata": {
    "id": "5J1HYnotUYI2"
   },
   "source": [
    "##### Insight\n",
    "- There is, a relationship regarding time of the day. Logically Uber rides are at its highes during peak times of the day, that is between 15 and 21 hours.\n",
    "- There is, in the other hand, no specific pattern regarding the day of the month in relationship to quantity of Uber rides.\n",
    "- Uber rides rose trhoughout the year, with September having around double sales than April.\n",
    "- Bases B02598 and B02617 are most used, while B02764 and B02512 are barely used."
   ]
  },
  {
   "cell_type": "code",
   "execution_count": null,
   "metadata": {
    "colab": {
     "base_uri": "https://localhost:8080/",
     "height": 649
    },
    "id": "5XGaCGjFUYI3",
    "outputId": "91df9e4b-b3e8-4c0e-8b62-e72e24675a57"
   },
   "outputs": [],
   "source": [
    "# for loop to create boxplot for selected variables\n",
    "\n",
    "cols = [\"Lat\", \"Lon\"]\n",
    "\n",
    "for col in cols:\n",
    "    plt.figure(figsize=(12,3))\n",
    "    sns.boxplot(data=df,\n",
    "            x=col)\n",
    "    plt.title(col)\n",
    "    plt.show()"
   ]
  },
  {
   "cell_type": "markdown",
   "metadata": {
    "id": "dz6XpNJTUYI3"
   },
   "source": [
    "###### Insight\n",
    "- Uber rides are far more concentrated latitudwise than longitudwise. In other words, Uber rides are spread far more from North to South than West to East.\n",
    "- Most of Uber rides are located on the center of Lower Manhattan"
   ]
  },
  {
   "cell_type": "markdown",
   "metadata": {
    "id": "NfNupxVVUYI3"
   },
   "source": [
    "## Machine Learning"
   ]
  },
  {
   "cell_type": "markdown",
   "metadata": {
    "id": "hukrqXPPUYI3"
   },
   "source": [
    "### Preprocessing"
   ]
  },
  {
   "cell_type": "code",
   "execution_count": null,
   "metadata": {
    "colab": {
     "base_uri": "https://localhost:8080/",
     "height": 206
    },
    "id": "jr0XVER3UYI3",
    "outputId": "a29d57e6-6212-481b-d1ca-a0e399cc89f2"
   },
   "outputs": [],
   "source": [
    "X = df[[\"Lat\", \"Lon\"]]\n",
    "# \"Day\", \"Month\", \"Hour\", \"Minute\", \"Base\"]\n",
    "X.head()"
   ]
  },
  {
   "cell_type": "code",
   "execution_count": null,
   "metadata": {
    "colab": {
     "base_uri": "https://localhost:8080/"
    },
    "id": "Y9Gh-YViUYI3",
    "outputId": "934e6ce2-bd3f-4fee-9680-369fe8a162da"
   },
   "outputs": [],
   "source": [
    "X.info()"
   ]
  },
  {
   "cell_type": "code",
   "execution_count": null,
   "metadata": {
    "colab": {
     "base_uri": "https://localhost:8080/"
    },
    "id": "4M1ZJKkQUYI3",
    "outputId": "b24961d2-44ae-4438-d72c-b01a8c1347c2"
   },
   "outputs": [],
   "source": [
    "# # create dummy variables\n",
    "# X = pd.get_dummies(X, dtype=int, drop_first=True)\n",
    "X_cols = list(X.columns)\n",
    "X_cols"
   ]
  },
  {
   "cell_type": "code",
   "execution_count": null,
   "metadata": {
    "colab": {
     "base_uri": "https://localhost:8080/"
    },
    "id": "0x1j7v1LUYI4",
    "outputId": "8817c344-ee72-4cd6-a940-af0eee25d4b1"
   },
   "outputs": [],
   "source": [
    "# normalize X\n",
    "scaler = StandardScaler()\n",
    "X_norm = scaler.fit_transform(X)\n",
    "\n",
    "# visualize random sample\n",
    "X_norm[48]"
   ]
  },
  {
   "cell_type": "markdown",
   "metadata": {
    "id": "wZz7FHSIUYI4"
   },
   "source": [
    "### K-Means"
   ]
  },
  {
   "cell_type": "code",
   "execution_count": null,
   "metadata": {
    "colab": {
     "base_uri": "https://localhost:8080/",
     "height": 75
    },
    "id": "p8ZjIoS6UYI9",
    "outputId": "2a4ed4b0-7c89-4cfa-8657-696db3aabf02"
   },
   "outputs": [],
   "source": [
    "# fit baseline model\n",
    "kmeans = KMeans(random_state=42)\n",
    "kmeans.fit(X_norm)"
   ]
  },
  {
   "cell_type": "code",
   "execution_count": null,
   "metadata": {
    "colab": {
     "base_uri": "https://localhost:8080/",
     "height": 156
    },
    "id": "EWoUPc1tUYI9",
    "outputId": "6f512be0-2553-4897-8a84-25bb1e402b37"
   },
   "outputs": [],
   "source": [
    "# create cluster centers, or the average of each cluster\n",
    "cluster_centers = scaler.inverse_transform(kmeans.cluster_centers_)\n",
    "display(cluster_centers)"
   ]
  },
  {
   "cell_type": "code",
   "execution_count": null,
   "metadata": {
    "id": "AA1xUuaNUYI-"
   },
   "outputs": [],
   "source": [
    "# try different number of clusters, from 1 to 10\n",
    "# mean distortions = average euclidean distance\n",
    "clusters = range(1, 10)\n",
    "mean_distortions = []\n",
    "\n",
    "# make loop to find ideal number of clusters\n",
    "for k in clusters:\n",
    "    model = KMeans(n_clusters=k)\n",
    "    model.fit(X_norm)\n",
    "    # assign clusters\n",
    "    pred = model.predict(X_norm)\n",
    "    mean_distortions.append(\n",
    "        sum(\n",
    "            np.min(cdist(X, model.cluster_centers_, \"euclidean\"), axis=1)\n",
    "        )  # find centroids and distances\n",
    "        / pd.DataFrame(X).shape[0]\n",
    "    )"
   ]
  },
  {
   "cell_type": "code",
   "execution_count": null,
   "metadata": {
    "colab": {
     "base_uri": "https://localhost:8080/",
     "height": 472
    },
    "id": "Ps0UltQxUYI-",
    "outputId": "a563a336-6838-4a5d-fa88-82af08269ff4"
   },
   "outputs": [],
   "source": [
    "# average euclidean distance from centroid\n",
    "plt.plot(clusters, mean_distortions, \"bx-\")\n",
    "plt.xlabel(\"K\")\n",
    "plt.ylabel(\"Average Distortion\")\n",
    "plt.title(\"Find K with Elbow Method\")\n",
    "plt.show()"
   ]
  },
  {
   "cell_type": "markdown",
   "metadata": {
    "id": "OnGg15XXlp1C"
   },
   "source": [
    "- It seems like our optimal number of clusters is four.\n",
    "- There is a minimal difference between four and nine, the next best option, but it increases complexity and interpretability, so it is best to stick with four."
   ]
  },
  {
   "cell_type": "markdown",
   "metadata": {
    "id": "INKsihO_lxbL"
   },
   "source": [
    "#### K-Means 4"
   ]
  },
  {
   "cell_type": "code",
   "execution_count": null,
   "metadata": {
    "colab": {
     "base_uri": "https://localhost:8080/",
     "height": 206
    },
    "id": "KAqXI8w_UYI-",
    "outputId": "4afed6a4-a590-4d86-b7d1-a179e70407bc"
   },
   "outputs": [],
   "source": [
    "# make predictions and assign variables to clusters\n",
    "kmeans_4 = KMeans(n_clusters=4, random_state=0)\n",
    "kmeans_4.fit(X_norm)\n",
    "kmeans_4_pred = kmeans_4.predict(X_norm)\n",
    "\n",
    "X[\"kmeans_4_cluster\"] = kmeans_4_pred\n",
    "X.head()"
   ]
  },
  {
   "cell_type": "code",
   "execution_count": null,
   "metadata": {},
   "outputs": [],
   "source": [
    "#  silhouette score\n",
    "# kmeans_4_sil_score = silhouette_score(X_norm, X[\"kmeans_4_cluster\"])\n",
    "# display(kmeans_4_sil_score)"
   ]
  },
  {
   "cell_type": "code",
   "execution_count": null,
   "metadata": {
    "colab": {
     "base_uri": "https://localhost:8080/",
     "height": 472
    },
    "id": "brL1jGOqUYI-",
    "outputId": "6b75cb69-611b-41f1-a688-530e6c5813f9"
   },
   "outputs": [],
   "source": [
    "sns.countplot(data=X,\n",
    "              x=\"kmeans_4_cluster\")\n",
    "plt.title(\"Quantity of Observations per Cluster\")\n",
    "plt.show()"
   ]
  },
  {
   "cell_type": "code",
   "execution_count": null,
   "metadata": {
    "colab": {
     "base_uri": "https://localhost:8080/",
     "height": 289
    },
    "id": "oWt4p1yqUYI-",
    "outputId": "11517a02-ce16-4680-81b5-e6adbdd66016"
   },
   "outputs": [],
   "source": [
    "X.boxplot(by=\"kmeans_4_cluster\",\n",
    "          layout=(5,2),\n",
    "          figsize=(15,10))\n",
    "plt.show()"
   ]
  },
  {
   "cell_type": "code",
   "execution_count": null,
   "metadata": {
    "colab": {
     "base_uri": "https://localhost:8080/",
     "height": 206
    },
    "id": "HF-y27rRfB4u",
    "outputId": "68bdb088-13b6-4d70-da0b-8c2303623793"
   },
   "outputs": [],
   "source": [
    "# average latitude and longitude for each cluster\n",
    "X.groupby(\"kmeans_4_cluster\").mean()"
   ]
  },
  {
   "cell_type": "code",
   "execution_count": null,
   "metadata": {
    "colab": {
     "base_uri": "https://localhost:8080/",
     "height": 86
    },
    "id": "dTPzsq5ufVTD",
    "outputId": "78d05801-9bad-4443-fef0-386d3c95644f"
   },
   "outputs": [],
   "source": [
    "# centroids for model\n",
    "kmeans_4_clusters = scaler.inverse_transform(kmeans_4.cluster_centers_)\n",
    "display(kmeans_4_clusters)"
   ]
  },
  {
   "cell_type": "code",
   "execution_count": null,
   "metadata": {},
   "outputs": [],
   "source": [
    "# download csv file, send it to tableau\n",
    "X.to_csv(\"kmeans_4_clusters.csv\")\n",
    "files.download(\"kmeans_4_clusters.csv\")"
   ]
  },
  {
   "cell_type": "markdown",
   "metadata": {
    "id": "0kRnlPM2bK1y"
   },
   "source": [
    "##### Insight:\n",
    "- Four main clusters were identified, which are:\n",
    "      - Lower Manhattan & Midwest Brooklyn (Red)\n",
    "      - Midtown & Upper Manhattan (Blue)\n",
    "      - Eastern Brooklyn & Eastern Queens (orange)\n",
    "      - Western Queens & The Bronx (Green)\n",
    "\n"
   ]
  },
  {
   "cell_type": "markdown",
   "metadata": {
    "id": "LHMXL1K3UYI-"
   },
   "source": [
    "### DBSCAN"
   ]
  },
  {
   "cell_type": "code",
   "execution_count": null,
   "metadata": {
    "id": "MKj4oB1SwbEl"
   },
   "outputs": [],
   "source": []
  }
 ],
 "metadata": {
  "colab": {
   "provenance": []
  },
  "kernelspec": {
   "display_name": "Python 3",
   "language": "python",
   "name": "python3"
  },
  "language_info": {
   "codemirror_mode": {
    "name": "ipython",
    "version": 3
   },
   "file_extension": ".py",
   "mimetype": "text/x-python",
   "name": "python",
   "nbconvert_exporter": "python",
   "pygments_lexer": "ipython3",
   "version": "3.8.8"
  }
 },
 "nbformat": 4,
 "nbformat_minor": 1
}
